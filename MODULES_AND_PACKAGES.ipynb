{
  "nbformat": 4,
  "nbformat_minor": 0,
  "metadata": {
    "colab": {
      "private_outputs": true,
      "provenance": []
    },
    "kernelspec": {
      "name": "python3",
      "display_name": "Python 3"
    },
    "language_info": {
      "name": "python"
    }
  },
  "cells": [
    {
      "cell_type": "markdown",
      "source": [
        "# **Modules and Packages**\n",
        "\n",
        "## **Modules**\n",
        "\n",
        "- Single Python file (.py) containing code (function, classes, variables).\n",
        "\n",
        "- Used for organization and reusability.\n",
        "\n",
        "## **Packages**\n",
        "\n",
        "- Directory containing multiple modules and sub-packages.\n",
        "\n",
        "- Includes an __init__.py file to indicate it's a package.\n",
        "\n",
        "## **Importing Modules and Packages**\n",
        "\n",
        "* import module_name:Import the entire module.\n",
        "\n",
        "* from module_name import function_name:\n",
        "\n",
        "  Import specific function or variable.\n",
        "\n",
        "* Import module_name as alias: Use an alias for the module\n",
        "\n",
        "\n",
        "\n",
        "\n"
      ],
      "metadata": {
        "id": "ilIlFRBUB2Nn"
      }
    },
    {
      "cell_type": "code",
      "source": [
        "import math as m\n",
        "print(m.sqrt(25)) # Output : 5.0\n",
        "from math import sqrt\n",
        "print(sqrt(25)) # Output : 5.0"
      ],
      "metadata": {
        "id": "cNj4EzgLBKAt"
      },
      "execution_count": null,
      "outputs": []
    },
    {
      "cell_type": "markdown",
      "source": [
        "# The dir()Fuction\n",
        "\n",
        "* lists all names in a modulel or namespace.\n"
      ],
      "metadata": {
        "id": "VrwQGVKrEe60"
      }
    },
    {
      "cell_type": "code",
      "source": [
        "import math\n",
        "print(dir(math)) # outputs list of math module function and constants."
      ],
      "metadata": {
        "id": "19Q_crtDB9y1"
      },
      "execution_count": null,
      "outputs": []
    },
    {
      "cell_type": "markdown",
      "source": [
        "2.Trigonomertric Function"
      ],
      "metadata": {
        "id": "FGmFt1hFJTHz"
      }
    },
    {
      "cell_type": "code",
      "source": [],
      "metadata": {
        "id": "1qm-wW_RFMJe"
      },
      "execution_count": null,
      "outputs": []
    },
    {
      "cell_type": "markdown",
      "source": [
        "3. Logarithms\n",
        "\n",
        "* Natural Logarithm(math.log)\n"
      ],
      "metadata": {
        "id": "egFu3urzJ7i2"
      }
    },
    {
      "cell_type": "code",
      "source": [
        "print(math.log(10))"
      ],
      "metadata": {
        "id": "3ASfJEp2KUAy"
      },
      "execution_count": null,
      "outputs": []
    },
    {
      "cell_type": "markdown",
      "source": [
        "* logarithm with custom base (math.log):  logarithm to any base (e.g.,base2)."
      ],
      "metadata": {
        "id": "By6gLozBKZJr"
      }
    },
    {
      "cell_type": "code",
      "source": [
        "print(math.log(16,2))"
      ],
      "metadata": {
        "id": "9t2L3SUDKXeM"
      },
      "execution_count": null,
      "outputs": []
    },
    {
      "cell_type": "markdown",
      "source": [
        "5. Advanced function\n",
        "\n",
        "* factorial (math.factorial):compute the factorial of a number ."
      ],
      "metadata": {
        "id": "Wn6N4-8KKzSE"
      }
    },
    {
      "cell_type": "markdown",
      "source": [
        "1. Calcuate the area of a circle"
      ],
      "metadata": {
        "id": "2_YqM_yJLi7U"
      }
    },
    {
      "cell_type": "code",
      "source": [
        "import math\n",
        "radius=float(input(\"enter the radius: \"))\n",
        "area=math.pi*math.pow(radius,2)\n",
        "print(f\"Area of the circle : {area}\")"
      ],
      "metadata": {
        "id": "YncTohDZKxsb"
      },
      "execution_count": null,
      "outputs": []
    },
    {
      "cell_type": "markdown",
      "source": [
        "\n",
        " # os:Operating System Module\n",
        "\n",
        "The os module in python is like a tookit that allows your program to interact with the operating system."
      ],
      "metadata": {
        "id": "-QDRhAH7M78-"
      }
    },
    {
      "cell_type": "code",
      "source": [
        "# import os\n",
        "# print(\"current Directiory: \",os.getcwd())"
      ],
      "metadata": {
        "id": "HZdYYo9aNa4U"
      },
      "execution_count": null,
      "outputs": []
    },
    {
      "cell_type": "markdown",
      "source": [
        "* create a new directiory : Make a new folder in your current location."
      ],
      "metadata": {
        "id": "lcZU4xVTOHFb"
      }
    },
    {
      "cell_type": "code",
      "source": [
        "# os.mkdir(\"new_folder\")"
      ],
      "metadata": {
        "id": "37HbqD_ROFwD"
      },
      "execution_count": null,
      "outputs": []
    },
    {
      "cell_type": "markdown",
      "source": [
        "List files and folders: Show all the files and folers in a specific location."
      ],
      "metadata": {
        "id": "o6vSi2UkOvnE"
      }
    },
    {
      "cell_type": "code",
      "source": [
        "# print(os.listdir())"
      ],
      "metadata": {
        "id": "KJUwds1nOuP7"
      },
      "execution_count": null,
      "outputs": []
    },
    {
      "cell_type": "markdown",
      "source": [
        "Delete a directiory: Remove an empty folder.\n"
      ],
      "metadata": {
        "id": "m_cw0C6rPJGz"
      }
    },
    {
      "cell_type": "code",
      "source": [
        "# os.rmdir(\"new_folder\")"
      ],
      "metadata": {
        "id": "gVg_i_G0PVBy"
      },
      "execution_count": null,
      "outputs": []
    },
    {
      "cell_type": "markdown",
      "source": [
        "Check if a file or folder exist:\n"
      ],
      "metadata": {
        "id": "jMktgODFPcbU"
      }
    },
    {
      "cell_type": "code",
      "source": [
        "# print(os.path.exists(\"example.txt\"))"
      ],
      "metadata": {
        "id": "SlOHL77XPiq8"
      },
      "execution_count": null,
      "outputs": []
    },
    {
      "cell_type": "markdown",
      "source": [
        "Get file details (likes size):output the size of \"example.txt\" in bytes"
      ],
      "metadata": {
        "id": "yQijDE1fPwF7"
      }
    },
    {
      "cell_type": "code",
      "source": [
        "# print(os.path.getsize(\"example.txt\"))"
      ],
      "metadata": {
        "id": "GhkTpAQwQK8z"
      },
      "execution_count": null,
      "outputs": []
    },
    {
      "cell_type": "markdown",
      "source": [
        "get information about the operating system: Find out the name of your operating system"
      ],
      "metadata": {
        "id": "3lj6W-WCRCvz"
      }
    },
    {
      "cell_type": "code",
      "source": [
        "# print(os.name)"
      ],
      "metadata": {
        "id": "GePB7khBRW_D"
      },
      "execution_count": null,
      "outputs": []
    },
    {
      "cell_type": "markdown",
      "source": [
        "Get detailed system information:\n"
      ],
      "metadata": {
        "id": "Bdld8KbbRftq"
      }
    },
    {
      "cell_type": "code",
      "source": [
        "# print(os.uname())"
      ],
      "metadata": {
        "id": "uoU78sY6RfKa"
      },
      "execution_count": null,
      "outputs": []
    }
  ]
}